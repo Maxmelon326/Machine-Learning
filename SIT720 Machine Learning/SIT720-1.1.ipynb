{
 "cells": [
  {
   "cell_type": "markdown",
   "id": "255d3276",
   "metadata": {},
   "source": [
    "### Task 1.1\n",
    "* Name:LI WAN\n",
    "* Student Number:223718804\n",
    "* E-mail:s223718804@deakin.edu.au\n",
    "* Course:SIT720\n",
    "---"
   ]
  },
  {
   "cell_type": "code",
   "execution_count": 9,
   "id": "64c591e8",
   "metadata": {},
   "outputs": [
    {
     "name": "stdout",
     "output_type": "stream",
     "text": [
      "Characters at even positions: L A\n",
      "Characters at odd positions: IWN\n"
     ]
    }
   ],
   "source": [
    "# Q1\n",
    "name = \"LI WAN\"\n",
    "\n",
    "# Print characters at even positions\n",
    "even_positions = name[::2]\n",
    "print(f\"Characters at even positions: {even_positions}\")\n",
    "\n",
    "# Print characters at odd positions\n",
    "odd_positions = name[1::2]\n",
    "print(f\"Characters at odd positions: {odd_positions}\")"
   ]
  },
  {
   "cell_type": "code",
   "execution_count": 1,
   "id": "54289b44",
   "metadata": {},
   "outputs": [
    {
     "name": "stdout",
     "output_type": "stream",
     "text": [
      "Student names: ['Aj', 'Sam', 'Celine', 'Star', 'Belinda']\n",
      "Course names: ['Chemistry', 'Physics', 'Math', 'Computer Science', 'History']\n",
      "Email addresses: ['aj_chemistry@163.com', 'sam_physics@gmail.com', 'celine_math@outlook.com', 'star_computer science@hotmail.com', 'belinda_history@qq.com']\n"
     ]
    }
   ],
   "source": [
    "# Q2\n",
    "import random\n",
    "\n",
    "# Function to generate random values\n",
    "def generate_random_values():\n",
    "    names = [\"Aj\", \"Belinda\", \"Celine\", \"Star\", \"Sam\"]\n",
    "    courses = [\"Chemistry\", \"Computer Science\", \"History\", \"Physics\", \"Math\"]\n",
    "    domains = [\"gmail.com\", \"163.com\", \"outlook.com\", \"hotmail.com\", \"qq.com\"]\n",
    "\n",
    "    # Shuffle the lists to get random values\n",
    "    random.shuffle(names)\n",
    "    random.shuffle(courses)\n",
    "    random.shuffle(domains)\n",
    "\n",
    "    return names, courses, domains\n",
    "\n",
    "# Assign random values to variables\n",
    "student_names, course_names, email_domains = generate_random_values()\n",
    "\n",
    "# Print the values\n",
    "print(f\"Student names: {student_names}\")\n",
    "print(f\"Course names: {course_names}\")\n",
    "print(f\"Email addresses: {[f'{name.lower()}_{course.lower()}@{domain}' for name, course, domain in zip(student_names, course_names, email_domains)]}\")"
   ]
  },
  {
   "cell_type": "code",
   "execution_count": 6,
   "id": "04b72af0",
   "metadata": {},
   "outputs": [
    {
     "name": "stdout",
     "output_type": "stream",
     "text": [
      "Student Data:\n",
      "Student name: ['Sam', 'Aj', 'Celine', 'Belinda', 'Star']\n",
      "Course name: ['Math', 'Chemistry', 'Physics', 'History', 'Computer Science']\n",
      "Email Address: ['sam_math@outlook.com', 'aj_chemistry@gmail.com', 'celine_physics@qq.com', 'belinda_history@hotmail.com', 'star_computer science@163.com']\n"
     ]
    }
   ],
   "source": [
    "# Q3\n",
    "student_data = {\n",
    "    'Student name': student_names,\n",
    "    'Course name': course_names,\n",
    "    'Email Address': [f'{name.lower()}_{course.lower()}@{domain}' for name, course, domain in zip(student_names, course_names, email_domains)]\n",
    "}\n",
    "\n",
    "# Print the dictionary\n",
    "print(\"Student Data:\")\n",
    "for key, value in student_data.items():\n",
    "    print(f\"{key}: {value}\")"
   ]
  },
  {
   "cell_type": "code",
   "execution_count": 8,
   "id": "0460b893",
   "metadata": {},
   "outputs": [
    {
     "name": "stdout",
     "output_type": "stream",
     "text": [
      "Solar power\n"
     ]
    }
   ],
   "source": [
    "# Q4\n",
    "# Define the 'energy' string variable\n",
    "energy = 'Biomass'\n",
    "\n",
    "# Check the value of the 'energy' variable\n",
    "if energy == 'Fossil':\n",
    "    print(\"Natural gas\")\n",
    "else:\n",
    "    print(\"Solar power\")"
   ]
  },
  {
   "cell_type": "code",
   "execution_count": 12,
   "id": "21fddcac",
   "metadata": {},
   "outputs": [
    {
     "name": "stdout",
     "output_type": "stream",
     "text": [
      "Prime numbers between 0 and 100:\n",
      "2\n",
      "3\n",
      "5\n",
      "7\n",
      "11\n",
      "13\n",
      "17\n",
      "19\n",
      "23\n",
      "29\n",
      "31\n",
      "37\n",
      "41\n",
      "43\n",
      "47\n",
      "53\n",
      "59\n",
      "61\n",
      "67\n",
      "71\n",
      "73\n",
      "79\n",
      "83\n",
      "89\n",
      "97\n"
     ]
    }
   ],
   "source": [
    "# Q5\n",
    "def is_prime(num):\n",
    "    if num < 2:\n",
    "        return False\n",
    "    for i in range(2, int(num**0.5) + 1):\n",
    "        if num % i == 0:\n",
    "            return False\n",
    "    return True\n",
    "\n",
    "# Print prime numbers between 0 and 100\n",
    "print(\"Prime numbers between 0 and 100:\")\n",
    "for number in range(101):\n",
    "    if is_prime(number):\n",
    "        print(number)"
   ]
  },
  {
   "cell_type": "code",
   "execution_count": 9,
   "id": "dbab4019",
   "metadata": {},
   "outputs": [
    {
     "name": "stdout",
     "output_type": "stream",
     "text": [
      "Addition: 11\n",
      "Multiplication: 28\n",
      "Division: 0.5714285714285714\n",
      "Subtraction: -3\n"
     ]
    }
   ],
   "source": [
    "# Q7 \n",
    "# Define functions for addition, multiplication, division, and subtraction\n",
    "def Addition(x, y):\n",
    "    return x + y\n",
    "\n",
    "def Multiplication(x, y):\n",
    "    return x * y\n",
    "\n",
    "def Division(x, y):\n",
    "    if y != 0:\n",
    "        return x / y\n",
    "    else:\n",
    "        return \"Cannot divide by zero.\"\n",
    "\n",
    "def Subtraction(x, y):\n",
    "    return x - y\n",
    "\n",
    "# Call the functions with (4, 7) \n",
    "x, y = 4, 7\n",
    "\n",
    "result_addition = Addition(x, y)\n",
    "result_multiplication = Multiplication(x, y)\n",
    "result_division = Division(x, y)\n",
    "result_subtraction = Subtraction(x, y)\n",
    "\n",
    "# Print the outputs\n",
    "print(f\"Addition: {result_addition}\")\n",
    "print(f\"Multiplication: {result_multiplication}\")\n",
    "print(f\"Division: {result_division}\")\n",
    "print(f\"Subtraction: {result_subtraction}\")"
   ]
  },
  {
   "cell_type": "code",
   "execution_count": 16,
   "id": "1bd99074",
   "metadata": {},
   "outputs": [
    {
     "name": "stdout",
     "output_type": "stream",
     "text": [
      "Identity Matrix (8x8):\n",
      "[[1. 0. 0. 0. 0. 0. 0. 0.]\n",
      " [0. 1. 0. 0. 0. 0. 0. 0.]\n",
      " [0. 0. 1. 0. 0. 0. 0. 0.]\n",
      " [0. 0. 0. 1. 0. 0. 0. 0.]\n",
      " [0. 0. 0. 0. 1. 0. 0. 0.]\n",
      " [0. 0. 0. 0. 0. 1. 0. 0.]\n",
      " [0. 0. 0. 0. 0. 0. 1. 0.]\n",
      " [0. 0. 0. 0. 0. 0. 0. 1.]]\n",
      "\n",
      "Random Matrix (8x4):\n",
      "[[0.87081793 0.07457418 0.25480637 0.31685648]\n",
      " [0.94388175 0.43833771 0.72600802 0.78557247]\n",
      " [0.94307022 0.16789849 0.36858331 0.81736497]\n",
      " [0.86801863 0.45239474 0.09768585 0.33288667]\n",
      " [0.85927489 0.20991543 0.76948756 0.36682044]\n",
      " [0.49339247 0.20525796 0.47659793 0.7364305 ]\n",
      " [0.64422576 0.56581623 0.20648542 0.30820598]\n",
      " [0.923942   0.14247601 0.73151954 0.89885726]]\n",
      "\n",
      "Result Matrix after multiplication:\n",
      "[[0.87081793 0.07457418 0.25480637 0.31685648]\n",
      " [0.94388175 0.43833771 0.72600802 0.78557247]\n",
      " [0.94307022 0.16789849 0.36858331 0.81736497]\n",
      " [0.86801863 0.45239474 0.09768585 0.33288667]\n",
      " [0.85927489 0.20991543 0.76948756 0.36682044]\n",
      " [0.49339247 0.20525796 0.47659793 0.7364305 ]\n",
      " [0.64422576 0.56581623 0.20648542 0.30820598]\n",
      " [0.923942   0.14247601 0.73151954 0.89885726]]\n"
     ]
    }
   ],
   "source": [
    "# Q8\n",
    "import numpy as np\n",
    "\n",
    "# Create an 8x8 Identity matrix\n",
    "identity_matrix = np.eye(8)\n",
    "\n",
    "# Create an 8x4 random matrix\n",
    "random_matrix = np.random.rand(8, 4)\n",
    "\n",
    "# Multiply the identity matrix with the random matrix\n",
    "result_matrix = np.dot(identity_matrix, random_matrix)\n",
    "\n",
    "# Display the matrices\n",
    "print(\"Identity Matrix (8x8):\")\n",
    "print(identity_matrix)\n",
    "print(\"\\nRandom Matrix (8x4):\")\n",
    "print(random_matrix)\n",
    "print(\"\\nResult Matrix after multiplication:\")\n",
    "print(result_matrix)"
   ]
  },
  {
   "cell_type": "code",
   "execution_count": 17,
   "id": "e13e29c1",
   "metadata": {},
   "outputs": [
    {
     "name": "stdout",
     "output_type": "stream",
     "text": [
      "Original Matrix (8x9):\n",
      "[[0.42411445 0.32882822 0.49049912 0.88896006 0.95244499 0.13456126\n",
      "  0.67320987 0.98300638 0.29944185]\n",
      " [0.37352784 0.33333804 0.31475086 0.72405143 0.39293992 0.75192921\n",
      "  0.15352448 0.34514698 0.22689127]\n",
      " [0.07842286 0.5614458  0.26107054 0.15005205 0.29243784 0.90871456\n",
      "  0.73204129 0.99250113 0.7499537 ]\n",
      " [0.10194862 0.33973934 0.04797601 0.58431036 0.94583594 0.0536265\n",
      "  0.86979704 0.89925652 0.19338075]\n",
      " [0.86419623 0.78198347 0.75018598 0.4704352  0.69384994 0.64289963\n",
      "  0.21104366 0.1780705  0.21321172]\n",
      " [0.63075038 0.17133743 0.64433836 0.77374412 0.60973362 0.86151804\n",
      "  0.27247768 0.55018109 0.14331965]\n",
      " [0.4471771  0.7874462  0.01226523 0.36462928 0.59164461 0.27510632\n",
      "  0.26199333 0.9867413  0.01867205]\n",
      " [0.7547443  0.06587853 0.96306904 0.09424086 0.18111897 0.10868231\n",
      "  0.46534952 0.48011396 0.37283029]]\n",
      "\n",
      "Transposed Matrix (9x8):\n",
      "[[0.42411445 0.37352784 0.07842286 0.10194862 0.86419623 0.63075038\n",
      "  0.4471771  0.7547443 ]\n",
      " [0.32882822 0.33333804 0.5614458  0.33973934 0.78198347 0.17133743\n",
      "  0.7874462  0.06587853]\n",
      " [0.49049912 0.31475086 0.26107054 0.04797601 0.75018598 0.64433836\n",
      "  0.01226523 0.96306904]\n",
      " [0.88896006 0.72405143 0.15005205 0.58431036 0.4704352  0.77374412\n",
      "  0.36462928 0.09424086]\n",
      " [0.95244499 0.39293992 0.29243784 0.94583594 0.69384994 0.60973362\n",
      "  0.59164461 0.18111897]\n",
      " [0.13456126 0.75192921 0.90871456 0.0536265  0.64289963 0.86151804\n",
      "  0.27510632 0.10868231]\n",
      " [0.67320987 0.15352448 0.73204129 0.86979704 0.21104366 0.27247768\n",
      "  0.26199333 0.46534952]\n",
      " [0.98300638 0.34514698 0.99250113 0.89925652 0.1780705  0.55018109\n",
      "  0.9867413  0.48011396]\n",
      " [0.29944185 0.22689127 0.7499537  0.19338075 0.21321172 0.14331965\n",
      "  0.01867205 0.37283029]]\n"
     ]
    }
   ],
   "source": [
    "# Q9\n",
    "# Create an 8x9 matrix with random values\n",
    "original_matrix = np.random.rand(8, 9)\n",
    "\n",
    "# Print the original matrix\n",
    "print(\"Original Matrix (8x9):\")\n",
    "print(original_matrix)\n",
    "\n",
    "# Transpose the matrix\n",
    "transposed_matrix = np.transpose(original_matrix)\n",
    "\n",
    "# Print the transposed matrix\n",
    "print(\"\\nTransposed Matrix (9x8):\")\n",
    "print(transposed_matrix)\n"
   ]
  },
  {
   "cell_type": "code",
   "execution_count": 11,
   "id": "a08a9b7d",
   "metadata": {},
   "outputs": [
    {
     "data": {
      "text/html": [
       "<div>\n",
       "<style scoped>\n",
       "    .dataframe tbody tr th:only-of-type {\n",
       "        vertical-align: middle;\n",
       "    }\n",
       "\n",
       "    .dataframe tbody tr th {\n",
       "        vertical-align: top;\n",
       "    }\n",
       "\n",
       "    .dataframe thead th {\n",
       "        text-align: right;\n",
       "    }\n",
       "</style>\n",
       "<table border=\"1\" class=\"dataframe\">\n",
       "  <thead>\n",
       "    <tr style=\"text-align: right;\">\n",
       "      <th></th>\n",
       "      <th>Sensor_Name</th>\n",
       "      <th>SensingDateTime(Hour)</th>\n",
       "      <th>LocationID</th>\n",
       "      <th>Direction_1</th>\n",
       "      <th>Direction_2</th>\n",
       "      <th>Total_of_Directions</th>\n",
       "      <th>Location</th>\n",
       "    </tr>\n",
       "  </thead>\n",
       "  <tbody>\n",
       "    <tr>\n",
       "      <th>0</th>\n",
       "      <td>SprFli_T</td>\n",
       "      <td>2023-04-25T07:00:00+10:00</td>\n",
       "      <td>75</td>\n",
       "      <td>36</td>\n",
       "      <td>17</td>\n",
       "      <td>53</td>\n",
       "      <td>-37.81515276, 144.97467661</td>\n",
       "    </tr>\n",
       "    <tr>\n",
       "      <th>1</th>\n",
       "      <td>SprFli_T</td>\n",
       "      <td>2023-04-25T10:00:00+10:00</td>\n",
       "      <td>75</td>\n",
       "      <td>28</td>\n",
       "      <td>50</td>\n",
       "      <td>78</td>\n",
       "      <td>-37.81515276, 144.97467661</td>\n",
       "    </tr>\n",
       "    <tr>\n",
       "      <th>2</th>\n",
       "      <td>SprFli_T</td>\n",
       "      <td>2023-04-25T11:00:00+10:00</td>\n",
       "      <td>75</td>\n",
       "      <td>63</td>\n",
       "      <td>63</td>\n",
       "      <td>126</td>\n",
       "      <td>-37.81515276, 144.97467661</td>\n",
       "    </tr>\n",
       "    <tr>\n",
       "      <th>3</th>\n",
       "      <td>SprFli_T</td>\n",
       "      <td>2023-04-25T12:00:00+10:00</td>\n",
       "      <td>75</td>\n",
       "      <td>85</td>\n",
       "      <td>89</td>\n",
       "      <td>174</td>\n",
       "      <td>-37.81515276, 144.97467661</td>\n",
       "    </tr>\n",
       "    <tr>\n",
       "      <th>4</th>\n",
       "      <td>SprFli_T</td>\n",
       "      <td>2023-04-25T18:00:00+10:00</td>\n",
       "      <td>75</td>\n",
       "      <td>365</td>\n",
       "      <td>59</td>\n",
       "      <td>424</td>\n",
       "      <td>-37.81515276, 144.97467661</td>\n",
       "    </tr>\n",
       "  </tbody>\n",
       "</table>\n",
       "</div>"
      ],
      "text/plain": [
       "  Sensor_Name      SensingDateTime(Hour)  LocationID  Direction_1  \\\n",
       "0    SprFli_T  2023-04-25T07:00:00+10:00          75           36   \n",
       "1    SprFli_T  2023-04-25T10:00:00+10:00          75           28   \n",
       "2    SprFli_T  2023-04-25T11:00:00+10:00          75           63   \n",
       "3    SprFli_T  2023-04-25T12:00:00+10:00          75           85   \n",
       "4    SprFli_T  2023-04-25T18:00:00+10:00          75          365   \n",
       "\n",
       "   Direction_2  Total_of_Directions                    Location  \n",
       "0           17                   53  -37.81515276, 144.97467661  \n",
       "1           50                   78  -37.81515276, 144.97467661  \n",
       "2           63                  126  -37.81515276, 144.97467661  \n",
       "3           89                  174  -37.81515276, 144.97467661  \n",
       "4           59                  424  -37.81515276, 144.97467661  "
      ]
     },
     "execution_count": 11,
     "metadata": {},
     "output_type": "execute_result"
    }
   ],
   "source": [
    "# Q10\n",
    "import pandas as pd\n",
    "local_path = r'E:\\2-学习\\1-Deakin\\24-T1\\SIT720\\Task\\pedestrian-counting-system-monthly-counts-per-hour.csv'\n",
    "df=pd.read_csv(local_path, comment='#')\n",
    "df.head()"
   ]
  },
  {
   "cell_type": "code",
   "execution_count": 12,
   "id": "651b576d",
   "metadata": {},
   "outputs": [
    {
     "name": "stdout",
     "output_type": "stream",
     "text": [
      "Number of data instances: 525005\n",
      "Number of variables: 7\n",
      "\n",
      "Original values of 'LocationID':\n",
      "0          75\n",
      "1          75\n",
      "2          75\n",
      "3          75\n",
      "4          75\n",
      "         ... \n",
      "525000    142\n",
      "525001    142\n",
      "525002    142\n",
      "525003    142\n",
      "525004    142\n",
      "Name: LocationID, Length: 525005, dtype: int64\n",
      "\n",
      "Modified values of 'LocationID' (after deducting mean):\n",
      "0         21.822695\n",
      "1         21.822695\n",
      "2         21.822695\n",
      "3         21.822695\n",
      "4         21.822695\n",
      "            ...    \n",
      "525000    88.822695\n",
      "525001    88.822695\n",
      "525002    88.822695\n",
      "525003    88.822695\n",
      "525004    88.822695\n",
      "Name: Modified_LocationID, Length: 525005, dtype: float64\n"
     ]
    }
   ],
   "source": [
    "# Print the number of data instances and variables\n",
    "num_instances, num_variables = df.shape\n",
    "print(f\"Number of data instances: {num_instances}\")\n",
    "print(f\"Number of variables: {num_variables}\")\n",
    "\n",
    "# Calculate the mean of the third variable ('LocationID')\n",
    "location_id_mean = df['LocationID'].mean()\n",
    "\n",
    "# Deduct the mean from the original values of the 'LocationID' variable\n",
    "df['Modified_LocationID'] = df['LocationID'] - location_id_mean\n",
    "\n",
    "# Print both original and modified values of the 'LocationID' variable\n",
    "print(\"\\nOriginal values of 'LocationID':\")\n",
    "print(df['LocationID'])\n",
    "\n",
    "print(\"\\nModified values of 'LocationID' (after deducting mean):\")\n",
    "print(df['Modified_LocationID'])"
   ]
  }
 ],
 "metadata": {
  "kernelspec": {
   "display_name": "Python 3 (ipykernel)",
   "language": "python",
   "name": "python3"
  },
  "language_info": {
   "codemirror_mode": {
    "name": "ipython",
    "version": 3
   },
   "file_extension": ".py",
   "mimetype": "text/x-python",
   "name": "python",
   "nbconvert_exporter": "python",
   "pygments_lexer": "ipython3",
   "version": "3.11.5"
  }
 },
 "nbformat": 4,
 "nbformat_minor": 5
}
