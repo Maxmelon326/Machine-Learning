{
 "cells": [
  {
   "cell_type": "markdown",
   "id": "76f15976",
   "metadata": {},
   "source": [
    "### Task 3.2\n",
    "* Name:LI WAN\n",
    "* Student Number:223718804\n",
    "* E-mail:s223718804@deakin.edu.au\n",
    "* Course:SIT720\n",
    "---"
   ]
  },
  {
   "cell_type": "code",
   "execution_count": 99,
   "id": "0cbff471",
   "metadata": {},
   "outputs": [
    {
     "data": {
      "text/plain": [
       "(1059, 10)"
      ]
     },
     "execution_count": 99,
     "metadata": {},
     "output_type": "execute_result"
    }
   ],
   "source": [
    "# Q1 Load data \n",
    "import pandas as pd\n",
    "local_path = r'E:\\2-学习\\1-Deakin\\24-T1\\SIT720\\Task\\FluoridationData.csv'\n",
    "df=pd.read_csv(local_path, comment='#')\n",
    "df.shape"
   ]
  },
  {
   "cell_type": "code",
   "execution_count": 100,
   "id": "765a2bf9",
   "metadata": {},
   "outputs": [
    {
     "data": {
      "text/html": [
       "<div>\n",
       "<style scoped>\n",
       "    .dataframe tbody tr th:only-of-type {\n",
       "        vertical-align: middle;\n",
       "    }\n",
       "\n",
       "    .dataframe tbody tr th {\n",
       "        vertical-align: top;\n",
       "    }\n",
       "\n",
       "    .dataframe thead th {\n",
       "        text-align: right;\n",
       "    }\n",
       "</style>\n",
       "<table border=\"1\" class=\"dataframe\">\n",
       "  <thead>\n",
       "    <tr style=\"text-align: right;\">\n",
       "      <th></th>\n",
       "      <th>_id</th>\n",
       "      <th>cartodb_id</th>\n",
       "      <th>melbourne</th>\n",
       "      <th>postcode</th>\n",
       "      <th>id</th>\n",
       "      <th>fluoride_level</th>\n",
       "      <th>water_company</th>\n",
       "      <th>townsuburb</th>\n",
       "      <th>lat</th>\n",
       "      <th>lon</th>\n",
       "    </tr>\n",
       "  </thead>\n",
       "  <tbody>\n",
       "    <tr>\n",
       "      <th>0</th>\n",
       "      <td>1</td>\n",
       "      <td>236</td>\n",
       "      <td>False</td>\n",
       "      <td>3227</td>\n",
       "      <td>236</td>\n",
       "      <td>Fluoridated</td>\n",
       "      <td>Barwon Water</td>\n",
       "      <td>CONNEWARRE</td>\n",
       "      <td>-38.264069</td>\n",
       "      <td>144.462309</td>\n",
       "    </tr>\n",
       "    <tr>\n",
       "      <th>1</th>\n",
       "      <td>2</td>\n",
       "      <td>1</td>\n",
       "      <td>True</td>\n",
       "      <td>3067</td>\n",
       "      <td>1</td>\n",
       "      <td>Fluoridated</td>\n",
       "      <td>City West Water</td>\n",
       "      <td>ABBOTSFORD</td>\n",
       "      <td>-37.803000</td>\n",
       "      <td>145.002000</td>\n",
       "    </tr>\n",
       "    <tr>\n",
       "      <th>2</th>\n",
       "      <td>3</td>\n",
       "      <td>2</td>\n",
       "      <td>True</td>\n",
       "      <td>3040</td>\n",
       "      <td>2</td>\n",
       "      <td>Fluoridated</td>\n",
       "      <td>City West Water</td>\n",
       "      <td>ABERFELDIE</td>\n",
       "      <td>-37.762000</td>\n",
       "      <td>144.901000</td>\n",
       "    </tr>\n",
       "    <tr>\n",
       "      <th>3</th>\n",
       "      <td>4</td>\n",
       "      <td>3</td>\n",
       "      <td>False</td>\n",
       "      <td>3352</td>\n",
       "      <td>3</td>\n",
       "      <td>Not fluoridated</td>\n",
       "      <td>Central Highlands Water</td>\n",
       "      <td>ADDINGTON</td>\n",
       "      <td>-37.383333</td>\n",
       "      <td>143.683333</td>\n",
       "    </tr>\n",
       "    <tr>\n",
       "      <th>4</th>\n",
       "      <td>5</td>\n",
       "      <td>4</td>\n",
       "      <td>False</td>\n",
       "      <td>3465</td>\n",
       "      <td>4</td>\n",
       "      <td>Fluoridated</td>\n",
       "      <td>Central Highlands Water</td>\n",
       "      <td>ADELAIDE LEAD</td>\n",
       "      <td>-37.083821</td>\n",
       "      <td>143.679125</td>\n",
       "    </tr>\n",
       "    <tr>\n",
       "      <th>...</th>\n",
       "      <td>...</td>\n",
       "      <td>...</td>\n",
       "      <td>...</td>\n",
       "      <td>...</td>\n",
       "      <td>...</td>\n",
       "      <td>...</td>\n",
       "      <td>...</td>\n",
       "      <td>...</td>\n",
       "      <td>...</td>\n",
       "      <td>...</td>\n",
       "    </tr>\n",
       "    <tr>\n",
       "      <th>1054</th>\n",
       "      <td>1055</td>\n",
       "      <td>1055</td>\n",
       "      <td>False</td>\n",
       "      <td>3352</td>\n",
       "      <td>1055</td>\n",
       "      <td>Fluoridated</td>\n",
       "      <td>Central Highlands Water</td>\n",
       "      <td>YENDON</td>\n",
       "      <td>-37.644585</td>\n",
       "      <td>143.965034</td>\n",
       "    </tr>\n",
       "    <tr>\n",
       "      <th>1055</th>\n",
       "      <td>1056</td>\n",
       "      <td>1056</td>\n",
       "      <td>True</td>\n",
       "      <td>3770</td>\n",
       "      <td>1056</td>\n",
       "      <td>Fluoridated</td>\n",
       "      <td>Yarra Valley Water</td>\n",
       "      <td>YERING</td>\n",
       "      <td>-37.700221</td>\n",
       "      <td>145.358251</td>\n",
       "    </tr>\n",
       "    <tr>\n",
       "      <th>1056</th>\n",
       "      <td>1057</td>\n",
       "      <td>1057</td>\n",
       "      <td>False</td>\n",
       "      <td>3869</td>\n",
       "      <td>1057</td>\n",
       "      <td>Fluoridated</td>\n",
       "      <td>Gippsland Water</td>\n",
       "      <td>YINNAR</td>\n",
       "      <td>-38.316667</td>\n",
       "      <td>146.316667</td>\n",
       "    </tr>\n",
       "    <tr>\n",
       "      <th>1057</th>\n",
       "      <td>1058</td>\n",
       "      <td>1058</td>\n",
       "      <td>True</td>\n",
       "      <td>3063</td>\n",
       "      <td>1058</td>\n",
       "      <td>Fluoridated</td>\n",
       "      <td>Yarra Valley Water</td>\n",
       "      <td>YUROKE</td>\n",
       "      <td>-37.600000</td>\n",
       "      <td>144.880000</td>\n",
       "    </tr>\n",
       "    <tr>\n",
       "      <th>1058</th>\n",
       "      <td>1059</td>\n",
       "      <td>1059</td>\n",
       "      <td>False</td>\n",
       "      <td>3418</td>\n",
       "      <td>1059</td>\n",
       "      <td>Not fluoridated</td>\n",
       "      <td>GWMWater</td>\n",
       "      <td>NHILL</td>\n",
       "      <td>-36.351636</td>\n",
       "      <td>141.641108</td>\n",
       "    </tr>\n",
       "  </tbody>\n",
       "</table>\n",
       "<p>1059 rows × 10 columns</p>\n",
       "</div>"
      ],
      "text/plain": [
       "       _id  cartodb_id  melbourne  postcode    id   fluoride_level  \\\n",
       "0        1         236      False      3227   236      Fluoridated   \n",
       "1        2           1       True      3067     1      Fluoridated   \n",
       "2        3           2       True      3040     2      Fluoridated   \n",
       "3        4           3      False      3352     3  Not fluoridated   \n",
       "4        5           4      False      3465     4      Fluoridated   \n",
       "...    ...         ...        ...       ...   ...              ...   \n",
       "1054  1055        1055      False      3352  1055      Fluoridated   \n",
       "1055  1056        1056       True      3770  1056      Fluoridated   \n",
       "1056  1057        1057      False      3869  1057      Fluoridated   \n",
       "1057  1058        1058       True      3063  1058      Fluoridated   \n",
       "1058  1059        1059      False      3418  1059  Not fluoridated   \n",
       "\n",
       "                water_company     townsuburb        lat         lon  \n",
       "0                Barwon Water     CONNEWARRE -38.264069  144.462309  \n",
       "1             City West Water     ABBOTSFORD -37.803000  145.002000  \n",
       "2             City West Water     ABERFELDIE -37.762000  144.901000  \n",
       "3     Central Highlands Water      ADDINGTON -37.383333  143.683333  \n",
       "4     Central Highlands Water  ADELAIDE LEAD -37.083821  143.679125  \n",
       "...                       ...            ...        ...         ...  \n",
       "1054  Central Highlands Water         YENDON -37.644585  143.965034  \n",
       "1055       Yarra Valley Water         YERING -37.700221  145.358251  \n",
       "1056          Gippsland Water         YINNAR -38.316667  146.316667  \n",
       "1057       Yarra Valley Water         YUROKE -37.600000  144.880000  \n",
       "1058                 GWMWater          NHILL -36.351636  141.641108  \n",
       "\n",
       "[1059 rows x 10 columns]"
      ]
     },
     "execution_count": 100,
     "metadata": {},
     "output_type": "execute_result"
    }
   ],
   "source": [
    "df"
   ]
  },
  {
   "cell_type": "code",
   "execution_count": 101,
   "id": "56a066d2",
   "metadata": {},
   "outputs": [
    {
     "name": "stdout",
     "output_type": "stream",
     "text": [
      "Data type of '_id': int64\n",
      "Data type of 'cartodb_id': int64\n",
      "Data type of 'melbourne': bool\n",
      "Data type of 'postcode': int64\n",
      "Data type of 'id': int64\n",
      "Data type of 'fluoride_level': object\n",
      "Data type of 'water_company': object\n",
      "Data type of 'townsuburb': object\n",
      "Data type of 'lat': float64\n",
      "Median value of 'lat': -37.788\n",
      "Data type of 'lon': float64\n",
      "Median value of 'lon': 144.989\n"
     ]
    }
   ],
   "source": [
    "# Q2 Display the data type of all features and print median values for float features\n",
    "for column in df.columns:\n",
    "    dtype = df[column].dtype\n",
    "    print(f\"Data type of '{column}': {dtype}\")\n",
    "    if dtype == 'float64':\n",
    "        median_value = df[column].median()\n",
    "        print(f\"Median value of '{column}': {median_value}\")"
   ]
  },
  {
   "cell_type": "code",
   "execution_count": 102,
   "id": "00ed44ac",
   "metadata": {},
   "outputs": [
    {
     "name": "stdout",
     "output_type": "stream",
     "text": [
      "All possible values of 'fluoride_level':\n",
      "['Fluoridated', 'Not fluoridated', 'Partly fluoridated', 'Natural fluoride']\n",
      "\n",
      "Ratio of each 'fluoride_level' value:\n",
      "Fluoridated: 0.7432\n",
      "Not fluoridated: 0.2417\n",
      "Partly fluoridated: 0.0132\n",
      "Natural fluoride: 0.0019\n"
     ]
    }
   ],
   "source": [
    "# Q3 Print all the possible values of the feature “fluoride_level” and calculate the ratio of each “fluoride_level” value.\n",
    "# Count occurrences of each value in the \"fluoride_level\" column\n",
    "fluoride_counts = df['fluoride_level'].value_counts()\n",
    "\n",
    "# Print all possible values of the feature \"fluoride_level\"\n",
    "print(\"All possible values of 'fluoride_level':\")\n",
    "print(fluoride_counts.index.tolist())\n",
    "\n",
    "# Calculate the ratio of each \"fluoride_level\" value\n",
    "total_samples = len(df)\n",
    "print(\"\\nRatio of each 'fluoride_level' value:\")\n",
    "for value, count in fluoride_counts.items():\n",
    "    ratio = count / total_samples\n",
    "    print(f\"{value}: {ratio:.4f}\")"
   ]
  },
  {
   "cell_type": "code",
   "execution_count": 103,
   "id": "9af44975",
   "metadata": {},
   "outputs": [
    {
     "name": "stdout",
     "output_type": "stream",
     "text": [
      "Chi-square statistic: 164.56534953232273\n",
      "P-value: 1.8958896190626055e-35\n",
      "There is significant evidence of association between 'melbourne' and 'fluoride_level'.\n"
     ]
    }
   ],
   "source": [
    "# Q4 Is there any association between “melbourne” and “fluoride_level”?\n",
    "from scipy.stats import chi2_contingency\n",
    "\n",
    "# Create a contingency table\n",
    "contingency_table = pd.crosstab(df['melbourne'], df['fluoride_level'])\n",
    "\n",
    "# Perform chi-square test of independence\n",
    "chi2, p, dof, expected = chi2_contingency(contingency_table)\n",
    "\n",
    "# Print the results\n",
    "print(\"Chi-square statistic:\", chi2)\n",
    "print(\"P-value:\", p)\n",
    "# Compare with significance level (0.05)\n",
    "if p < 0.05:\n",
    "    print(\"There is significant evidence of association between 'melbourne' and 'fluoride_level'.\")\n",
    "else:\n",
    "    print(\"There is no significant evidence of association between 'melbourne' and 'fluoride_level'.\")"
   ]
  },
  {
   "cell_type": "code",
   "execution_count": 104,
   "id": "37ad5209",
   "metadata": {
    "scrolled": true
   },
   "outputs": [
    {
     "name": "stdout",
     "output_type": "stream",
     "text": [
      "townsuburb\n",
      "BELGRAVE       2\n",
      "MULGRAVE       2\n",
      "HUNTINGDALE    2\n",
      "MELBOURNE      2\n",
      "COBURG         2\n",
      "              ..\n",
      "FYANSFORD      1\n",
      "GARDENVALE     1\n",
      "GARFIELD       1\n",
      "GEELONG        1\n",
      "YUROKE         1\n",
      "Name: water_company, Length: 1046, dtype: int64\n"
     ]
    }
   ],
   "source": [
    "# Q5 Print the number of water companies for different suburbs.\n",
    "# Group by 'townsuburb' and count the values in 'water_company'\n",
    "water_companies_per_suburb = df.groupby('townsuburb')['water_company'].size()\n",
    "\n",
    "# Sort the result in descending order\n",
    "water_companies_per_suburb_sorted = water_companies_per_suburb.sort_values(ascending=False)\n",
    "\n",
    "# Print the result\n",
    "print(water_companies_per_suburb_sorted)"
   ]
  },
  {
   "cell_type": "code",
   "execution_count": 105,
   "id": "4c1c8e56",
   "metadata": {},
   "outputs": [
    {
     "name": "stdout",
     "output_type": "stream",
     "text": [
      "Suburb with the most water companies: townsuburb\n",
      "BELGRAVE       2\n",
      "MULGRAVE       2\n",
      "HUNTINGDALE    2\n",
      "MELBOURNE      2\n",
      "COBURG         2\n",
      "ARMADALE       2\n",
      "OAKLEIGH       2\n",
      "HUGHESDALE     2\n",
      "TULLAMARINE    2\n",
      "UPWEY          2\n",
      "MALVERN        2\n",
      "PAKENHAM       2\n",
      "BAYSWATER      2\n",
      "Name: water_company, dtype: int64\n"
     ]
    }
   ],
   "source": [
    "# Q6 Which suburb has the biggest number of water companies?\n",
    "# Find the suburb with the highest number of water companies\n",
    "suburb_with_most_water_companies = water_companies_per_suburb_sorted[water_companies_per_suburb_sorted == 2]\n",
    "\n",
    "# Print the suburb with the most water companies\n",
    "print(\"Suburb with the most water companies:\", suburb_with_most_water_companies)"
   ]
  },
  {
   "cell_type": "code",
   "execution_count": 106,
   "id": "bd656a98",
   "metadata": {},
   "outputs": [
    {
     "name": "stdout",
     "output_type": "stream",
     "text": [
      "Suburbs with the most fluoridated companies ( 2 companies): ['ARMADALE', 'BAYSWATER', 'BELGRAVE', 'COBURG', 'HUGHESDALE', 'HUNTINGDALE', 'MALVERN', 'MELBOURNE', 'MULGRAVE', 'OAKLEIGH', 'PAKENHAM', 'TULLAMARINE', 'UPWEY']\n"
     ]
    }
   ],
   "source": [
    "# Q7 Which suburb has the biggest number of fluoridated companies?\n",
    "# Filter the DataFrame for rows where \"fluoride_level\" is \"Fluoridated\"\n",
    "fluoridated_df = df[df['fluoride_level'] == 'Fluoridated']\n",
    "\n",
    "# Group the filtered DataFrame by suburb and count the number of water companies\n",
    "fluoridated_companies_per_suburb = fluoridated_df.groupby('townsuburb')['water_company'].size()\n",
    "\n",
    "# Find the maximum count of fluoridated companies\n",
    "max_count = fluoridated_companies_per_suburb.max()\n",
    "\n",
    "# Find all suburbs with the maximum count of fluoridated companies\n",
    "max_suburbs = fluoridated_companies_per_suburb[fluoridated_companies_per_suburb == max_count].index.tolist()\n",
    "\n",
    "# Print all suburbs with the maximum count of fluoridated companies\n",
    "print(\"Suburbs with the most fluoridated companies (\", max_count, \"companies):\", max_suburbs)\n"
   ]
  },
  {
   "cell_type": "code",
   "execution_count": 107,
   "id": "77f85ac8",
   "metadata": {},
   "outputs": [
    {
     "data": {
      "text/html": [
       "<div>\n",
       "<style scoped>\n",
       "    .dataframe tbody tr th:only-of-type {\n",
       "        vertical-align: middle;\n",
       "    }\n",
       "\n",
       "    .dataframe tbody tr th {\n",
       "        vertical-align: top;\n",
       "    }\n",
       "\n",
       "    .dataframe thead th {\n",
       "        text-align: right;\n",
       "    }\n",
       "</style>\n",
       "<table border=\"1\" class=\"dataframe\">\n",
       "  <thead>\n",
       "    <tr style=\"text-align: right;\">\n",
       "      <th>fluoride_level</th>\n",
       "      <th>Fluoridated</th>\n",
       "      <th>Natural fluoride</th>\n",
       "      <th>Not fluoridated</th>\n",
       "      <th>Partly fluoridated</th>\n",
       "    </tr>\n",
       "    <tr>\n",
       "      <th>townsuburb</th>\n",
       "      <th></th>\n",
       "      <th></th>\n",
       "      <th></th>\n",
       "      <th></th>\n",
       "    </tr>\n",
       "  </thead>\n",
       "  <tbody>\n",
       "    <tr>\n",
       "      <th>ABBOTSFORD</th>\n",
       "      <td>1</td>\n",
       "      <td>0</td>\n",
       "      <td>0</td>\n",
       "      <td>0</td>\n",
       "    </tr>\n",
       "    <tr>\n",
       "      <th>ABERFELDIE</th>\n",
       "      <td>1</td>\n",
       "      <td>0</td>\n",
       "      <td>0</td>\n",
       "      <td>0</td>\n",
       "    </tr>\n",
       "    <tr>\n",
       "      <th>ADDINGTON</th>\n",
       "      <td>0</td>\n",
       "      <td>0</td>\n",
       "      <td>1</td>\n",
       "      <td>0</td>\n",
       "    </tr>\n",
       "    <tr>\n",
       "      <th>ADELAIDE LEAD</th>\n",
       "      <td>1</td>\n",
       "      <td>0</td>\n",
       "      <td>0</td>\n",
       "      <td>0</td>\n",
       "    </tr>\n",
       "    <tr>\n",
       "      <th>AGNES</th>\n",
       "      <td>0</td>\n",
       "      <td>0</td>\n",
       "      <td>1</td>\n",
       "      <td>0</td>\n",
       "    </tr>\n",
       "    <tr>\n",
       "      <th>...</th>\n",
       "      <td>...</td>\n",
       "      <td>...</td>\n",
       "      <td>...</td>\n",
       "      <td>...</td>\n",
       "    </tr>\n",
       "    <tr>\n",
       "      <th>YELLINGBO</th>\n",
       "      <td>0</td>\n",
       "      <td>0</td>\n",
       "      <td>0</td>\n",
       "      <td>1</td>\n",
       "    </tr>\n",
       "    <tr>\n",
       "      <th>YENDON</th>\n",
       "      <td>1</td>\n",
       "      <td>0</td>\n",
       "      <td>0</td>\n",
       "      <td>0</td>\n",
       "    </tr>\n",
       "    <tr>\n",
       "      <th>YERING</th>\n",
       "      <td>1</td>\n",
       "      <td>0</td>\n",
       "      <td>0</td>\n",
       "      <td>0</td>\n",
       "    </tr>\n",
       "    <tr>\n",
       "      <th>YINNAR</th>\n",
       "      <td>1</td>\n",
       "      <td>0</td>\n",
       "      <td>0</td>\n",
       "      <td>0</td>\n",
       "    </tr>\n",
       "    <tr>\n",
       "      <th>YUROKE</th>\n",
       "      <td>1</td>\n",
       "      <td>0</td>\n",
       "      <td>0</td>\n",
       "      <td>0</td>\n",
       "    </tr>\n",
       "  </tbody>\n",
       "</table>\n",
       "<p>1046 rows × 4 columns</p>\n",
       "</div>"
      ],
      "text/plain": [
       "fluoride_level  Fluoridated  Natural fluoride  Not fluoridated  \\\n",
       "townsuburb                                                       \n",
       "ABBOTSFORD                1                 0                0   \n",
       "ABERFELDIE                1                 0                0   \n",
       "ADDINGTON                 0                 0                1   \n",
       "ADELAIDE LEAD             1                 0                0   \n",
       "AGNES                     0                 0                1   \n",
       "...                     ...               ...              ...   \n",
       "YELLINGBO                 0                 0                0   \n",
       "YENDON                    1                 0                0   \n",
       "YERING                    1                 0                0   \n",
       "YINNAR                    1                 0                0   \n",
       "YUROKE                    1                 0                0   \n",
       "\n",
       "fluoride_level  Partly fluoridated  \n",
       "townsuburb                          \n",
       "ABBOTSFORD                       0  \n",
       "ABERFELDIE                       0  \n",
       "ADDINGTON                        0  \n",
       "ADELAIDE LEAD                    0  \n",
       "AGNES                            0  \n",
       "...                            ...  \n",
       "YELLINGBO                        1  \n",
       "YENDON                           0  \n",
       "YERING                           0  \n",
       "YINNAR                           0  \n",
       "YUROKE                           0  \n",
       "\n",
       "[1046 rows x 4 columns]"
      ]
     },
     "execution_count": 107,
     "metadata": {},
     "output_type": "execute_result"
    }
   ],
   "source": [
    "# Q8 Create and print a data frame of the number of water companies at different fluoride levels for different suburbs.\n",
    "# Group the DataFrame by suburb and fluoride level, then count the number of water companies\n",
    "water_companies_per_suburb_fluoride = df.groupby(['townsuburb', 'fluoride_level'])['water_company'].size().reset_index()\n",
    "\n",
    "# Pivot the table to get fluoride levels as columns and suburbs as rows\n",
    "water_companies_pivot = water_companies_per_suburb_fluoride.pivot_table(index='townsuburb', columns='fluoride_level', values='water_company', fill_value=0)\n",
    "\n",
    "# Print the DataFrame\n",
    "water_companies_pivot"
   ]
  },
  {
   "cell_type": "code",
   "execution_count": 108,
   "id": "a6565155",
   "metadata": {},
   "outputs": [
    {
     "data": {
      "image/png": "[encoded data removed]",
      "text/plain": [
       "<Figure size 800x500 with 1 Axes>"
      ]
     },
     "metadata": {},
     "output_type": "display_data"
    }
   ],
   "source": [
    "# Q9 Draw a histogram of the top 10 suburbs against its number of fluoridated companies.\n",
    "import matplotlib.pyplot as plt\n",
    "\n",
    "# Sort the results in descending order and select the top 10 suburbs\n",
    "top_10_suburbs = fluoridated_companies_per_suburb.sort_values(ascending=False).head(10)\n",
    "\n",
    "# Plot a histogram of the number of fluoridated companies for the top 10 suburbs\n",
    "plt.figure(figsize=(8, 5))\n",
    "top_10_suburbs.plot(kind='bar', color='skyblue')\n",
    "plt.title('Top 10 Suburbs by Number of Fluoridated Companies')\n",
    "plt.xlabel('Suburb')\n",
    "plt.ylabel('Number of Fluoridated Companies')\n",
    "plt.xticks(rotation=45)\n",
    "plt.grid(axis='y', linestyle='--', alpha=0.7)\n",
    "plt.tight_layout()\n",
    "plt.show()"
   ]
  },
  {
   "cell_type": "code",
   "execution_count": 109,
   "id": "9af18443",
   "metadata": {},
   "outputs": [
    {
     "name": "stderr",
     "output_type": "stream",
     "text": [
      "C:\\Users\\Maxmelon\\AppData\\Local\\Temp\\ipykernel_10552\\989231363.py:15: SettingWithCopyWarning: \n",
      "A value is trying to be set on a copy of a slice from a DataFrame.\n",
      "Try using .loc[row_indexer,col_indexer] = value instead\n",
      "\n",
      "See the caveats in the documentation: https://pandas.pydata.org/pandas-docs/stable/user_guide/indexing.html#returning-a-view-versus-a-copy\n",
      "  data[['lat', 'lon']] = scaled_data\n",
      "C:\\Users\\Maxmelon\\AppData\\Local\\Temp\\ipykernel_10552\\989231363.py:21: SettingWithCopyWarning: \n",
      "A value is trying to be set on a copy of a slice from a DataFrame.\n",
      "Try using .loc[row_indexer,col_indexer] = value instead\n",
      "\n",
      "See the caveats in the documentation: https://pandas.pydata.org/pandas-docs/stable/user_guide/indexing.html#returning-a-view-versus-a-copy\n",
      "  data['fluoride_level'] = label_encoder.fit_transform(data['fluoride_level'])\n",
      "C:\\Users\\Maxmelon\\AppData\\Local\\Temp\\ipykernel_10552\\989231363.py:25: SettingWithCopyWarning: \n",
      "A value is trying to be set on a copy of a slice from a DataFrame.\n",
      "Try using .loc[row_indexer,col_indexer] = value instead\n",
      "\n",
      "See the caveats in the documentation: https://pandas.pydata.org/pandas-docs/stable/user_guide/indexing.html#returning-a-view-versus-a-copy\n",
      "  data['townsuburb'] = label_encoder.fit_transform(data['townsuburb'])\n"
     ]
    }
   ],
   "source": [
    "# Q10 Based on the original dataset，use the available features and perform clustering on all the water companies and determine the number of clusters. Is this the same as the number of suburbs in the data set?\n",
    "import pandas as pd\n",
    "from sklearn.preprocessing import StandardScaler\n",
    "from sklearn.preprocessing import LabelEncoder\n",
    "\n",
    "# Select the desired features from the original dataset\n",
    "selected_features = ['melbourne', 'postcode', 'fluoride_level', 'townsuburb', 'lat', 'lon','water_company']\n",
    "data = df[selected_features]\n",
    "\n",
    "# Data preprocessing: Standardize numerical features\n",
    "scaler = StandardScaler()\n",
    "scaled_data = scaler.fit_transform(data[['lat', 'lon']])\n",
    "\n",
    "# Replace the original latitude and longitude features with the standardized ones\n",
    "data[['lat', 'lon']] = scaled_data\n",
    "\n",
    "# Creating an instance of LabelEncoder\n",
    "label_encoder = LabelEncoder()\n",
    "\n",
    "# Encoding the 'fluoride_level' feature\n",
    "data['fluoride_level'] = label_encoder.fit_transform(data['fluoride_level'])\n",
    "\n",
    "\n",
    "# Encoding the 'townsuburb' feature\n",
    "data['townsuburb'] = label_encoder.fit_transform(data['townsuburb'])"
   ]
  },
  {
   "cell_type": "code",
   "execution_count": 110,
   "id": "79aa46a6",
   "metadata": {},
   "outputs": [
    {
     "name": "stderr",
     "output_type": "stream",
     "text": [
      "C:\\Users\\Maxmelon\\anaconda3\\Lib\\site-packages\\sklearn\\cluster\\_kmeans.py:1436: UserWarning: KMeans is known to have a memory leak on Windows with MKL, when there are less chunks than available threads. You can avoid it by setting the environment variable OMP_NUM_THREADS=5.\n",
      "  warnings.warn(\n",
      "C:\\Users\\Maxmelon\\anaconda3\\Lib\\site-packages\\sklearn\\cluster\\_kmeans.py:1436: UserWarning: KMeans is known to have a memory leak on Windows with MKL, when there are less chunks than available threads. You can avoid it by setting the environment variable OMP_NUM_THREADS=5.\n",
      "  warnings.warn(\n",
      "C:\\Users\\Maxmelon\\anaconda3\\Lib\\site-packages\\sklearn\\cluster\\_kmeans.py:1436: UserWarning: KMeans is known to have a memory leak on Windows with MKL, when there are less chunks than available threads. You can avoid it by setting the environment variable OMP_NUM_THREADS=5.\n",
      "  warnings.warn(\n",
      "C:\\Users\\Maxmelon\\anaconda3\\Lib\\site-packages\\sklearn\\cluster\\_kmeans.py:1436: UserWarning: KMeans is known to have a memory leak on Windows with MKL, when there are less chunks than available threads. You can avoid it by setting the environment variable OMP_NUM_THREADS=5.\n",
      "  warnings.warn(\n",
      "C:\\Users\\Maxmelon\\anaconda3\\Lib\\site-packages\\sklearn\\cluster\\_kmeans.py:1436: UserWarning: KMeans is known to have a memory leak on Windows with MKL, when there are less chunks than available threads. You can avoid it by setting the environment variable OMP_NUM_THREADS=5.\n",
      "  warnings.warn(\n",
      "C:\\Users\\Maxmelon\\anaconda3\\Lib\\site-packages\\sklearn\\cluster\\_kmeans.py:1436: UserWarning: KMeans is known to have a memory leak on Windows with MKL, when there are less chunks than available threads. You can avoid it by setting the environment variable OMP_NUM_THREADS=5.\n",
      "  warnings.warn(\n",
      "C:\\Users\\Maxmelon\\anaconda3\\Lib\\site-packages\\sklearn\\cluster\\_kmeans.py:1436: UserWarning: KMeans is known to have a memory leak on Windows with MKL, when there are less chunks than available threads. You can avoid it by setting the environment variable OMP_NUM_THREADS=5.\n",
      "  warnings.warn(\n",
      "C:\\Users\\Maxmelon\\anaconda3\\Lib\\site-packages\\sklearn\\cluster\\_kmeans.py:1436: UserWarning: KMeans is known to have a memory leak on Windows with MKL, when there are less chunks than available threads. You can avoid it by setting the environment variable OMP_NUM_THREADS=5.\n",
      "  warnings.warn(\n",
      "C:\\Users\\Maxmelon\\anaconda3\\Lib\\site-packages\\sklearn\\cluster\\_kmeans.py:1436: UserWarning: KMeans is known to have a memory leak on Windows with MKL, when there are less chunks than available threads. You can avoid it by setting the environment variable OMP_NUM_THREADS=5.\n",
      "  warnings.warn(\n",
      "C:\\Users\\Maxmelon\\anaconda3\\Lib\\site-packages\\sklearn\\cluster\\_kmeans.py:1436: UserWarning: KMeans is known to have a memory leak on Windows with MKL, when there are less chunks than available threads. You can avoid it by setting the environment variable OMP_NUM_THREADS=5.\n",
      "  warnings.warn(\n",
      "C:\\Users\\Maxmelon\\anaconda3\\Lib\\site-packages\\sklearn\\cluster\\_kmeans.py:1436: UserWarning: KMeans is known to have a memory leak on Windows with MKL, when there are less chunks than available threads. You can avoid it by setting the environment variable OMP_NUM_THREADS=5.\n",
      "  warnings.warn(\n",
      "C:\\Users\\Maxmelon\\anaconda3\\Lib\\site-packages\\sklearn\\cluster\\_kmeans.py:1436: UserWarning: KMeans is known to have a memory leak on Windows with MKL, when there are less chunks than available threads. You can avoid it by setting the environment variable OMP_NUM_THREADS=5.\n",
      "  warnings.warn(\n",
      "C:\\Users\\Maxmelon\\anaconda3\\Lib\\site-packages\\sklearn\\cluster\\_kmeans.py:1436: UserWarning: KMeans is known to have a memory leak on Windows with MKL, when there are less chunks than available threads. You can avoid it by setting the environment variable OMP_NUM_THREADS=5.\n",
      "  warnings.warn(\n",
      "C:\\Users\\Maxmelon\\anaconda3\\Lib\\site-packages\\sklearn\\cluster\\_kmeans.py:1436: UserWarning: KMeans is known to have a memory leak on Windows with MKL, when there are less chunks than available threads. You can avoid it by setting the environment variable OMP_NUM_THREADS=5.\n",
      "  warnings.warn(\n",
      "C:\\Users\\Maxmelon\\anaconda3\\Lib\\site-packages\\sklearn\\cluster\\_kmeans.py:1436: UserWarning: KMeans is known to have a memory leak on Windows with MKL, when there are less chunks than available threads. You can avoid it by setting the environment variable OMP_NUM_THREADS=5.\n",
      "  warnings.warn(\n",
      "C:\\Users\\Maxmelon\\anaconda3\\Lib\\site-packages\\sklearn\\cluster\\_kmeans.py:1436: UserWarning: KMeans is known to have a memory leak on Windows with MKL, when there are less chunks than available threads. You can avoid it by setting the environment variable OMP_NUM_THREADS=5.\n",
      "  warnings.warn(\n",
      "C:\\Users\\Maxmelon\\anaconda3\\Lib\\site-packages\\sklearn\\cluster\\_kmeans.py:1436: UserWarning: KMeans is known to have a memory leak on Windows with MKL, when there are less chunks than available threads. You can avoid it by setting the environment variable OMP_NUM_THREADS=5.\n",
      "  warnings.warn(\n",
      "C:\\Users\\Maxmelon\\anaconda3\\Lib\\site-packages\\sklearn\\cluster\\_kmeans.py:1436: UserWarning: KMeans is known to have a memory leak on Windows with MKL, when there are less chunks than available threads. You can avoid it by setting the environment variable OMP_NUM_THREADS=5.\n",
      "  warnings.warn(\n"
     ]
    },
    {
     "data": {
      "image/png": "[encoded data removed]",
      "text/plain": [
       "<Figure size 800x550 with 1 Axes>"
      ]
     },
     "metadata": {},
     "output_type": "display_data"
    },
    {
     "data": {
      "text/plain": [
       "<Axes: title={'center': 'Distortion Score Elbow for KMeans Clustering'}, xlabel='k', ylabel='distortion score'>"
      ]
     },
     "execution_count": 110,
     "metadata": {},
     "output_type": "execute_result"
    }
   ],
   "source": [
    "from sklearn.datasets import make_blobs\n",
    "from yellowbrick.cluster import KElbowVisualizer\n",
    "from sklearn.cluster import KMeans\n",
    "\n",
    "X=data.iloc[:,0:-1]\n",
    "y=data.iloc[:,-1]\n",
    "\n",
    "# Instantiate the clustering model and visualizer\n",
    "model = KMeans(n_init=10) \n",
    "visualizer = KElbowVisualizer(\n",
    "    model, k=(2,20), metric='distortion', timings=False\n",
    ") #distortion same as Euclidean distance\n",
    "\n",
    "visualizer.fit(X)        # Fit the data to the visualizer\n",
    "visualizer.show() "
   ]
  },
  {
   "cell_type": "code",
   "execution_count": 111,
   "id": "db36ccee",
   "metadata": {},
   "outputs": [
    {
     "name": "stdout",
     "output_type": "stream",
     "text": [
      "Number of unique townsuburb names: 1046\n",
      "townsuburb\n",
      "BAYSWATER      2\n",
      "OAKLEIGH       2\n",
      "UPWEY          2\n",
      "TULLAMARINE    2\n",
      "ARMADALE       2\n",
      "              ..\n",
      "FRYERSTOWN     1\n",
      "FYANSFORD      1\n",
      "GARDENVALE     1\n",
      "GARFIELD       1\n",
      "NHILL          1\n",
      "Name: count, Length: 1046, dtype: int64\n"
     ]
    }
   ],
   "source": [
    "townsuburb_counts = df['townsuburb'].value_counts()\n",
    "print(\"Number of unique townsuburb names:\", len(townsuburb_counts))\n",
    "print(townsuburb_counts)"
   ]
  },
  {
   "cell_type": "markdown",
   "id": "dc2fc916",
   "metadata": {},
   "source": [
    "The number of clusters does not necessarily have to be the same as the number of suburbs in the dataset. Clustering is an unsupervised learning technique used to group similar data points together based on certain features or characteristics. The number of clusters is typically determined by the algorithm or by the analyst based on the underlying structure of the data, while the number of suburbs represents the distinct geographical regions or areas in the dataset. These two quantities may or may not align depending on the nature of the data and the clustering algorithm used."
   ]
  },
  {
   "cell_type": "code",
   "execution_count": 112,
   "id": "110165da",
   "metadata": {},
   "outputs": [
    {
     "name": "stderr",
     "output_type": "stream",
     "text": [
      "C:\\Users\\Maxmelon\\anaconda3\\Lib\\site-packages\\sklearn\\cluster\\_kmeans.py:1436: UserWarning: KMeans is known to have a memory leak on Windows with MKL, when there are less chunks than available threads. You can avoid it by setting the environment variable OMP_NUM_THREADS=5.\n",
      "  warnings.warn(\n"
     ]
    },
    {
     "name": "stdout",
     "output_type": "stream",
     "text": [
      "Evaluation Metrics for K-means:\n",
      "Purity: 0.2096317280453258\n"
     ]
    }
   ],
   "source": [
    "# Q11 Choose the best K and perform K-Means on the data set, report the purity score.\n",
    "from sklearn.cluster import KMeans\n",
    "from sklearn.metrics.cluster import contingency_matrix\n",
    "import numpy as np\n",
    "\n",
    "# Choose the best K (e.g., by visually inspecting the elbow curve)\n",
    "optimal_k = 5  # You can select the K value based on the elbow method\n",
    "\n",
    "# Instantiate the KMeans model\n",
    "kmeans = KMeans(n_clusters=optimal_k, n_init=10)\n",
    "\n",
    "# Fit the KMeans model and predict cluster labels\n",
    "labels_kmeans = kmeans.fit_predict(X)\n",
    "\n",
    "# Function to calculate purity score\n",
    "def calculate_purity(labels, y):\n",
    "    contingency = contingency_matrix(y, labels)\n",
    "    return np.sum(np.amax(contingency, axis=0)) / np.sum(contingency)\n",
    "\n",
    "# Calculate purity score\n",
    "purity_kmeans = calculate_purity(labels_kmeans, y)\n",
    "\n",
    "# Report the results\n",
    "print(\"Evaluation Metrics for K-means:\")\n",
    "print(f\"Purity: {purity_kmeans}\")"
   ]
  },
  {
   "cell_type": "code",
   "execution_count": 113,
   "id": "3eb95634",
   "metadata": {},
   "outputs": [
    {
     "name": "stderr",
     "output_type": "stream",
     "text": [
      "C:\\Users\\Maxmelon\\anaconda3\\Lib\\site-packages\\sklearn\\cluster\\_kmeans.py:1436: UserWarning: KMeans is known to have a memory leak on Windows with MKL, when there are less chunks than available threads. You can avoid it by setting the environment variable OMP_NUM_THREADS=5.\n",
      "  warnings.warn(\n"
     ]
    },
    {
     "name": "stdout",
     "output_type": "stream",
     "text": [
      "Evaluation Metrics for K-means++:\n",
      "Purity: 0.2096317280453258\n"
     ]
    }
   ],
   "source": [
    "# Q12 Perform K-Means++ on the data set, report the purity score and explain whether the K-Means++ returns better/worse result than that of K-Means.\n",
    "# Instantiate the KMeans model with K-Means++ initialization\n",
    "kmeans_pp = KMeans(n_clusters=optimal_k, init='k-means++', n_init=10)\n",
    "\n",
    "# Fit the KMeans model and predict cluster labels\n",
    "labels_kmeans_pp = kmeans_pp.fit_predict(X)\n",
    "\n",
    "# Function to calculate purity score\n",
    "def calculate_purity(labels, y):\n",
    "    contingency = contingency_matrix(y, labels)\n",
    "    return np.sum(np.amax(contingency, axis=0)) / np.sum(contingency)\n",
    "\n",
    "# Calculate purity score\n",
    "purity_kmeans_pp = calculate_purity(labels_kmeans_pp, y)\n",
    "\n",
    "# Report the results\n",
    "print(\"Evaluation Metrics for K-means++:\")\n",
    "print(f\"Purity: {purity_kmeans_pp}\")"
   ]
  },
  {
   "cell_type": "markdown",
   "id": "5dcd26b8",
   "metadata": {},
   "source": [
    "If choose k=5, the K-mean and K-means++ purity score is the same. The reasonas are:\n",
    "1. Same initial points: If the K-Means++ initialization used by both algorithms leads to initial cluster centers that are very close to those obtained by random initialization, both methods may converge to similar results.\n",
    "\n",
    "2. Dataset characteristics: If the distribution and features of the dataset make K-Means++ and random initialization behave similarly on this dataset, their clustering results may be very close, leading to identical purity scores.\n",
    "\n",
    "3. Evaluation metric: If the purity score is overly simplistic and cannot capture small differences between the two initialization methods, even if the clustering results differ slightly, it may result in identical purity scores.\n",
    "\n",
    "If change k number the purtiy score also changes."
   ]
  },
  {
   "cell_type": "code",
   "execution_count": 114,
   "id": "0f1cf28e",
   "metadata": {},
   "outputs": [
    {
     "name": "stdout",
     "output_type": "stream",
     "text": [
      "Evaluation Metrics for Agglomerative Hierarchical Clustering:\n",
      "Purity: 0.2502360717658168\n"
     ]
    }
   ],
   "source": [
    "# Q13 Apart from K-Means and K-Means++, try another clustering method, and compare the results.\n",
    "# We can choose Agglomerative Hierarchical Clustering. \n",
    "#Because Agglomerative hierarchical clustering offers flexibility in distance metrics, produces a hierarchical dendrogram, and is interpretable. It doesn't require specifying cluster numbers, is robust to noise, and handles various cluster shapes well\n",
    "from sklearn.cluster import AgglomerativeClustering\n",
    "\n",
    "# Perform Agglomerative Hierarchical Clustering\n",
    "agglomerative_clustering = AgglomerativeClustering(n_clusters=5)\n",
    "agglomerative_labels = agglomerative_clustering.fit_predict(X)\n",
    "\n",
    "# Evaluate the clustering results\n",
    "agglomerative_purity = calculate_purity(agglomerative_labels, y)\n",
    "agglomerative_silhouette = silhouette_score(X, agglomerative_labels)\n",
    "\n",
    "# Compare results with K-Means and K-Means++\n",
    "print(\"Evaluation Metrics for Agglomerative Hierarchical Clustering:\")\n",
    "print(f\"Purity: {agglomerative_purity}\")"
   ]
  },
  {
   "cell_type": "markdown",
   "id": "c41a5aca",
   "metadata": {},
   "source": [
    "The purity of Agglomerative Hierarchical Clustering is better. In general, Agglomerative Hierarchical Clustering tends to produce tighter, more compact clusters compared to K-means, which can be an advantage in some scenarios. However, K-means and its variants are often computationally faster and can scale better to large datasets. The \"purity\" of the clustering results can depend on factors like the cluster separation, noise in the data, the number of clusters, and the evaluation metric used. Without more details on the specific context, and evaluation criteria, we cannot be very sure which clustering approch is best. "
   ]
  }
 ],
 "metadata": {
  "kernelspec": {
   "display_name": "Python 3 (ipykernel)",
   "language": "python",
   "name": "python3"
  },
  "language_info": {
   "codemirror_mode": {
    "name": "ipython",
    "version": 3
   },
   "file_extension": ".py",
   "mimetype": "text/x-python",
   "name": "python",
   "nbconvert_exporter": "python",
   "pygments_lexer": "ipython3",
   "version": "3.11.5"
  }
 },
 "nbformat": 4,
 "nbformat_minor": 5
}
